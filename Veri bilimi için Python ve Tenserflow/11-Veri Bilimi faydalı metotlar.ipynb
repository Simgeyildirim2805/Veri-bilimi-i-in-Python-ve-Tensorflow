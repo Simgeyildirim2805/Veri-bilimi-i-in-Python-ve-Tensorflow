{
 "cells": [
  {
   "cell_type": "markdown",
   "id": "246c823c",
   "metadata": {},
   "source": [
    "## Range"
   ]
  },
  {
   "cell_type": "code",
   "execution_count": 1,
   "id": "289aa202",
   "metadata": {},
   "outputs": [
    {
     "data": {
      "text/plain": [
       "range(0, 12)"
      ]
     },
     "execution_count": 1,
     "metadata": {},
     "output_type": "execute_result"
    }
   ],
   "source": [
    "range(12)"
   ]
  },
  {
   "cell_type": "code",
   "execution_count": 2,
   "id": "2b03360a",
   "metadata": {},
   "outputs": [
    {
     "data": {
      "text/plain": [
       "[0, 1, 2, 3, 4, 5, 6, 7, 8, 9, 10, 11, 12, 13, 14, 15, 16, 17, 18, 19]"
      ]
     },
     "execution_count": 2,
     "metadata": {},
     "output_type": "execute_result"
    }
   ],
   "source": [
    "list(range(20))#1 ile 20 arasında sayılar üret. 20'yi dahil etme"
   ]
  },
  {
   "cell_type": "code",
   "execution_count": 4,
   "id": "cb604212",
   "metadata": {},
   "outputs": [
    {
     "data": {
      "text/plain": [
       "[1, 4, 7, 10, 13]"
      ]
     },
     "execution_count": 4,
     "metadata": {},
     "output_type": "execute_result"
    }
   ],
   "source": [
    "list(range(1,14,3))#1 ile 14 aralğında 3'er artan  sayılar.14'ü dahil etme"
   ]
  },
  {
   "cell_type": "markdown",
   "id": "02cb9501",
   "metadata": {},
   "source": [
    "## enumerate"
   ]
  },
  {
   "cell_type": "code",
   "execution_count": 1,
   "id": "5885148e",
   "metadata": {},
   "outputs": [
    {
     "name": "stdout",
     "output_type": "stream",
     "text": [
      "güncel numara: 5 güncel index: 0\n",
      "güncel numara: 6 güncel index: 1\n",
      "güncel numara: 7 güncel index: 2\n",
      "güncel numara: 8 güncel index: 3\n",
      "güncel numara: 9 güncel index: 4\n",
      "güncel numara: 10 güncel index: 5\n",
      "güncel numara: 11 güncel index: 6\n",
      "güncel numara: 12 güncel index: 7\n",
      "güncel numara: 13 güncel index: 8\n",
      "güncel numara: 14 güncel index: 9\n"
     ]
    }
   ],
   "source": [
    "index= 0\n",
    "for numara in list(range(5,15)):#index ve numaraları yazdırma\n",
    "    print(f\"güncel numara: {numara} güncel index: {index}\")\n",
    "    index= index + 1"
   ]
  },
  {
   "cell_type": "code",
   "execution_count": 2,
   "id": "dba087ac",
   "metadata": {},
   "outputs": [
    {
     "name": "stdout",
     "output_type": "stream",
     "text": [
      "5\n",
      "6\n",
      "7\n",
      "8\n",
      "9\n",
      "10\n",
      "11\n",
      "12\n",
      "13\n",
      "14\n"
     ]
    }
   ],
   "source": [
    "for (index,numara) in enumerate(list(range(5,15))):#index ve numaralara ayrı ayrı erişim sağlar.\n",
    "    print(numara)\n"
   ]
  },
  {
   "cell_type": "markdown",
   "id": "96d53228",
   "metadata": {},
   "source": [
    "## random"
   ]
  },
  {
   "cell_type": "code",
   "execution_count": 3,
   "id": "7c283f73",
   "metadata": {},
   "outputs": [],
   "source": [
    "from random import randint#randint kullanabilmek için ilk önce import edilir."
   ]
  },
  {
   "cell_type": "code",
   "execution_count": 4,
   "id": "adcc6044",
   "metadata": {},
   "outputs": [
    {
     "data": {
      "text/plain": [
       "42"
      ]
     },
     "execution_count": 4,
     "metadata": {},
     "output_type": "execute_result"
    }
   ],
   "source": [
    "randint(0,100)#rastgele bir sayı döndürür."
   ]
  },
  {
   "cell_type": "code",
   "execution_count": 8,
   "id": "d22bbd29",
   "metadata": {},
   "outputs": [
    {
     "data": {
      "text/plain": [
       "[0, 1, 2, 3, 4, 5, 6, 7, 8, 9]"
      ]
     },
     "execution_count": 8,
     "metadata": {},
     "output_type": "execute_result"
    }
   ],
   "source": [
    "yeniListe= list(range(0,10))#verilen aralıkta sayılar oluşturur.10'u dahil etmez.\n",
    "yeniListe"
   ]
  },
  {
   "cell_type": "code",
   "execution_count": 9,
   "id": "6d3976a5",
   "metadata": {},
   "outputs": [
    {
     "data": {
      "text/plain": [
       "[2, 7, 4, 0, 5, 9, 6, 3, 1, 8]"
      ]
     },
     "execution_count": 9,
     "metadata": {},
     "output_type": "execute_result"
    }
   ],
   "source": [
    "from random import shuffle\n",
    "shuffle(yeniListe)#verilen listeyi rastgele sıralar.\n",
    "yeniListe"
   ]
  },
  {
   "cell_type": "markdown",
   "id": "7aa3e9cb",
   "metadata": {},
   "source": [
    "## zip"
   ]
  },
  {
   "cell_type": "code",
   "execution_count": 11,
   "id": "4893ab98",
   "metadata": {},
   "outputs": [
    {
     "data": {
      "text/plain": [
       "[('çorba', 50, 'pazartesi'), ('pilav', 260, 'salı'), ('salata', 341, 'cuma')]"
      ]
     },
     "execution_count": 11,
     "metadata": {},
     "output_type": "execute_result"
    }
   ],
   "source": [
    "yemekler=[\"çorba\",\"pilav\",\"salata\",]\n",
    "kaloriler=[50,260,341]\n",
    "gunler= [\"pazartesi\", \"salı\",\"cuma\"]\n",
    "ziplenmisListe=list(zip(yemekler,kaloriler,gunler))\n",
    "ziplenmisListe"
   ]
  },
  {
   "cell_type": "markdown",
   "id": "8fec1515",
   "metadata": {},
   "source": [
    "## Listeler ileri seviye"
   ]
  },
  {
   "cell_type": "code",
   "execution_count": 22,
   "id": "a1f0cda7",
   "metadata": {},
   "outputs": [
    {
     "data": {
      "text/plain": [
       "['P', 'Y', 'T', 'H', 'O', 'N', ' ', 'L', 'İ', 'S', 'T', 'E', 'L', 'E', 'R']"
      ]
     },
     "execution_count": 22,
     "metadata": {},
     "output_type": "execute_result"
    }
   ],
   "source": [
    "listem= []\n",
    "string= \"PYTHON LİSTELER\"\n",
    "\n",
    "for harf in string:#yazılan stringi harf harf ayırır.\n",
    "    listem.append(harf)\n",
    "listem"
   ]
  },
  {
   "cell_type": "code",
   "execution_count": 25,
   "id": "a5b5e332",
   "metadata": {},
   "outputs": [
    {
     "ename": "SyntaxError",
     "evalue": "invalid syntax (2110320186.py, line 2)",
     "output_type": "error",
     "traceback": [
      "\u001b[1;36m  Input \u001b[1;32mIn [25]\u001b[1;36m\u001b[0m\n\u001b[1;33m    yeni= [eleman for harf in string]:\u001b[0m\n\u001b[1;37m                                     ^\u001b[0m\n\u001b[1;31mSyntaxError\u001b[0m\u001b[1;31m:\u001b[0m invalid syntax\n"
     ]
    }
   ],
   "source": [
    "string= \"Simge\"\n",
    "yeni= [eleman for harf in string]:\n",
    "    yeni"
   ]
  },
  {
   "cell_type": "code",
   "execution_count": null,
   "id": "4ecee432",
   "metadata": {},
   "outputs": [],
   "source": []
  }
 ],
 "metadata": {
  "kernelspec": {
   "display_name": "Python 3 (ipykernel)",
   "language": "python",
   "name": "python3"
  },
  "language_info": {
   "codemirror_mode": {
    "name": "ipython",
    "version": 3
   },
   "file_extension": ".py",
   "mimetype": "text/x-python",
   "name": "python",
   "nbconvert_exporter": "python",
   "pygments_lexer": "ipython3",
   "version": "3.9.12"
  }
 },
 "nbformat": 4,
 "nbformat_minor": 5
}
