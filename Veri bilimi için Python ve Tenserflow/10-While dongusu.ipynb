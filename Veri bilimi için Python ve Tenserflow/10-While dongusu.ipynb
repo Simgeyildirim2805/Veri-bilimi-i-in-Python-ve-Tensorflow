{
 "cells": [
  {
   "cell_type": "code",
   "execution_count": null,
   "id": "0a467dbc",
   "metadata": {},
   "outputs": [],
   "source": [
    "x = 0\n",
    "while x < 10:\n",
    "    print(x)\n",
    "    x = x + 1\n"
   ]
  },
  {
   "cell_type": "code",
   "execution_count": null,
   "id": "12febe73",
   "metadata": {},
   "outputs": [],
   "source": [
    "numara= 0\n",
    "while numara < 10:\n",
    "    if numara == 5:\n",
    "        break \n",
    "    print(numara)\n",
    "    numara= numara+1"
   ]
  },
  {
   "cell_type": "code",
   "execution_count": 1,
   "id": "cda8aee5",
   "metadata": {},
   "outputs": [
    {
     "name": "stdout",
     "output_type": "stream",
     "text": [
      "yeni değişkenin güncel değeri: 0\n",
      "yeni değişkenin güncel değeri: 1\n",
      "yeni değişkenin güncel değeri: 2\n",
      "yeni değişkenin güncel değeri: 3\n",
      "yeni değişkenin güncel değeri: 4\n",
      "yeni değişkenin güncel değeri: 5\n",
      "yeni değişkenin güncel değeri: 6\n",
      "yeni değişkenin güncel değeri: 7\n",
      "yeni değişkenin güncel değeri: 8\n",
      "yeni değişkenin güncel değeri: 9\n",
      "yeni değişkenin güncel değeri: 10\n",
      "yeni değişkenin güncel değeri: 11\n",
      "yeni değişkenin güncel değeri: 12\n",
      "yeni değişkenin güncel değeri: 13\n",
      "yeni değişkenin güncel değeri: 14\n"
     ]
    }
   ],
   "source": [
    "yeniDegisken= 0\n",
    "while yeniDegisken < 15:\n",
    "    #print(\"yeni değişkenin güncel değeri: \" +str(yeniDegisken))\n",
    "    print(f\"yeni değişkenin güncel değeri: {yeniDegisken}\")#f format mantığındadır süslü parantezz içine yazılano kod olarak algılar.\n",
    "    yeniDegisken= yeniDegisken + 1 "
   ]
  },
  {
   "cell_type": "code",
   "execution_count": null,
   "id": "870a4a51",
   "metadata": {},
   "outputs": [],
   "source": []
  },
  {
   "cell_type": "code",
   "execution_count": null,
   "id": "3ef177c6",
   "metadata": {},
   "outputs": [],
   "source": []
  }
 ],
 "metadata": {
  "kernelspec": {
   "display_name": "Python 3 (ipykernel)",
   "language": "python",
   "name": "python3"
  },
  "language_info": {
   "codemirror_mode": {
    "name": "ipython",
    "version": 3
   },
   "file_extension": ".py",
   "mimetype": "text/x-python",
   "name": "python",
   "nbconvert_exporter": "python",
   "pygments_lexer": "ipython3",
   "version": "3.9.12"
  }
 },
 "nbformat": 4,
 "nbformat_minor": 5
}
