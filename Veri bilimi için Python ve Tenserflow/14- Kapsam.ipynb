{
 "cells": [
  {
   "cell_type": "markdown",
   "id": "fd7a6189",
   "metadata": {},
   "source": [
    "## Scope"
   ]
  },
  {
   "cell_type": "code",
   "execution_count": 1,
   "id": "b71ef8af",
   "metadata": {},
   "outputs": [],
   "source": [
    "#kapsam(scope);aşağıda tanımlanan kodda numara isimli değişkene iki farklı değer ataması yapılmıştır.Normalde en son atanan değeri kabul eder sistem. Fakat kapsamdan dolayı fonksiyonda tanımlanan değişkeni farklı sayar ikşi değişkenin değerinide ayrı ayrı ele alır.\n",
    "numara= 20\n",
    "\n",
    "def carpma(rakam):\n",
    "    numara = 10\n",
    "    return numara * rakam "
   ]
  },
  {
   "cell_type": "code",
   "execution_count": 2,
   "id": "86b8b043",
   "metadata": {},
   "outputs": [
    {
     "data": {
      "text/plain": [
       "50"
      ]
     },
     "execution_count": 2,
     "metadata": {},
     "output_type": "execute_result"
    }
   ],
   "source": [
    "carpma(5)"
   ]
  },
  {
   "cell_type": "code",
   "execution_count": 3,
   "id": "8741371d",
   "metadata": {},
   "outputs": [
    {
     "name": "stdout",
     "output_type": "stream",
     "text": [
      "20\n"
     ]
    }
   ],
   "source": [
    "print(numara)"
   ]
  },
  {
   "cell_type": "code",
   "execution_count": 4,
   "id": "0a3b3f0b",
   "metadata": {},
   "outputs": [
    {
     "data": {
      "text/plain": [
       "10"
      ]
     },
     "execution_count": 4,
     "metadata": {},
     "output_type": "execute_result"
    }
   ],
   "source": [
    "x = 20\n",
    "x= 10\n",
    "x"
   ]
  },
  {
   "cell_type": "markdown",
   "id": "168d1396",
   "metadata": {},
   "source": [
    "## Local, Enclosing, Global, Built-in"
   ]
  },
  {
   "cell_type": "code",
   "execution_count": 7,
   "id": "9e5f8894",
   "metadata": {},
   "outputs": [],
   "source": [
    "#her değişken kendi yerinde tanımlananı alır. Local de olan locali globalde olan globali gibi .\n",
    "benimAdim= \"Simge\"\n",
    "#Global\n",
    "def fonksiyonum():\n",
    "    benimAdim= \"Merve\"\n",
    "    #Enclosing\n",
    "    def icFonksiyon():\n",
    "        benimAdim=\"Derya\"\n",
    "    #Local\n",
    "    print(benimAdim)\n",
    "    icFonksiyon()"
   ]
  },
  {
   "cell_type": "code",
   "execution_count": 8,
   "id": "36db91da",
   "metadata": {},
   "outputs": [
    {
     "name": "stdout",
     "output_type": "stream",
     "text": [
      "Merve\n"
     ]
    }
   ],
   "source": [
    "fonksiyonum()"
   ]
  },
  {
   "cell_type": "code",
   "execution_count": 10,
   "id": "53e08d90",
   "metadata": {},
   "outputs": [],
   "source": [
    "y=10#global\n",
    "def yenifunc(y):# local de olanlar.\n",
    "    print(y)\n",
    "    y=5\n",
    "    print(y)\n",
    "    return y"
   ]
  },
  {
   "cell_type": "code",
   "execution_count": 12,
   "id": "d15a7c2f",
   "metadata": {},
   "outputs": [
    {
     "name": "stdout",
     "output_type": "stream",
     "text": [
      "3\n",
      "5\n"
     ]
    },
    {
     "data": {
      "text/plain": [
       "5"
      ]
     },
     "execution_count": 12,
     "metadata": {},
     "output_type": "execute_result"
    }
   ],
   "source": [
    "yenifunc(3)"
   ]
  },
  {
   "cell_type": "code",
   "execution_count": 13,
   "id": "6dfe9860",
   "metadata": {},
   "outputs": [
    {
     "name": "stdout",
     "output_type": "stream",
     "text": [
      "3\n",
      "5\n"
     ]
    }
   ],
   "source": [
    "y=yenifunc(3)"
   ]
  },
  {
   "cell_type": "code",
   "execution_count": 14,
   "id": "6145dbad",
   "metadata": {},
   "outputs": [
    {
     "data": {
      "text/plain": [
       "5"
      ]
     },
     "execution_count": 14,
     "metadata": {},
     "output_type": "execute_result"
    }
   ],
   "source": [
    "y"
   ]
  },
  {
   "cell_type": "code",
   "execution_count": null,
   "id": "bbbd259d",
   "metadata": {},
   "outputs": [],
   "source": []
  }
 ],
 "metadata": {
  "kernelspec": {
   "display_name": "Python 3 (ipykernel)",
   "language": "python",
   "name": "python3"
  },
  "language_info": {
   "codemirror_mode": {
    "name": "ipython",
    "version": 3
   },
   "file_extension": ".py",
   "mimetype": "text/x-python",
   "name": "python",
   "nbconvert_exporter": "python",
   "pygments_lexer": "ipython3",
   "version": "3.9.12"
  }
 },
 "nbformat": 4,
 "nbformat_minor": 5
}
