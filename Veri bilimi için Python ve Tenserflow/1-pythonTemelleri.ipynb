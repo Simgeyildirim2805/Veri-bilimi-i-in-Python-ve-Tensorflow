{
 "cells": [
  {
   "cell_type": "code",
   "execution_count": 10,
   "id": "07959f8d",
   "metadata": {},
   "outputs": [
    {
     "data": {
      "text/plain": [
       "16"
      ]
     },
     "execution_count": 10,
     "metadata": {},
     "output_type": "execute_result"
    }
   ],
   "source": [
    "x=2\n",
    "x * x * x * x #x'in dördüncü kuvvetini alma"
   ]
  },
  {
   "cell_type": "code",
   "execution_count": 11,
   "id": "dd127ca7",
   "metadata": {},
   "outputs": [
    {
     "data": {
      "text/plain": [
       "125"
      ]
     },
     "execution_count": 11,
     "metadata": {},
     "output_type": "execute_result"
    }
   ],
   "source": [
    "x=5\n",
    "x **3 #x'in üçüncü kuvvetini alma"
   ]
  },
  {
   "cell_type": "code",
   "execution_count": 15,
   "id": "9ad7e5f2",
   "metadata": {},
   "outputs": [
    {
     "data": {
      "text/plain": [
       "2"
      ]
     },
     "execution_count": 15,
     "metadata": {},
     "output_type": "execute_result"
    }
   ],
   "source": [
    "x=671\n",
    "x%3 #kalanı bulur.x'in 3'e bölümünden kalanı verir."
   ]
  },
  {
   "cell_type": "code",
   "execution_count": 18,
   "id": "6e786d19",
   "metadata": {},
   "outputs": [
    {
     "name": "stdout",
     "output_type": "stream",
     "text": [
      "yaşınızı girin: 25\n"
     ]
    },
    {
     "data": {
      "text/plain": [
       "str"
      ]
     },
     "execution_count": 18,
     "metadata": {},
     "output_type": "execute_result"
    }
   ],
   "source": [
    "kullaniciYasi= input(\"yaşınızı girin: \")#klavyeden giriş alır.\n",
    "type(kullaniciYasi)\n"
   ]
  },
  {
   "cell_type": "code",
   "execution_count": 6,
   "id": "940390d9",
   "metadata": {},
   "outputs": [
    {
     "data": {
      "text/plain": [
       "'SIMGE YILDIRIM'"
      ]
     },
     "execution_count": 6,
     "metadata": {},
     "output_type": "execute_result"
    }
   ],
   "source": [
    "a= 'simge yıldırım'\n",
    "len(a)#stringin kaç karakterden oluştuğunu verir.\n",
    "a.capitalize()#stringin işlk harfini büyük harfe dönüştürür.\n",
    "a.split()#stringi parçalar.\n",
    "a.upper()#stringin tüm karakterlerini büyük harfe dönüştürür.\n"
   ]
  },
  {
   "cell_type": "code",
   "execution_count": 31,
   "id": "db6f2610",
   "metadata": {},
   "outputs": [
    {
     "name": "stdout",
     "output_type": "stream",
     "text": [
      "bir değer gir:23.5\n"
     ]
    },
    {
     "data": {
      "text/plain": [
       "float"
      ]
     },
     "execution_count": 31,
     "metadata": {},
     "output_type": "execute_result"
    }
   ],
   "source": [
    "b= input('bir değer gir:')\n",
    "c= float(b)#girilen ifadeyi float tipine dönüştürür.\n",
    "type(c)#veri tipini döndürür."
   ]
  },
  {
   "cell_type": "markdown",
   "id": "570739fb",
   "metadata": {},
   "source": [
    "## Index"
   ]
  },
  {
   "cell_type": "code",
   "execution_count": 34,
   "id": "837c0054",
   "metadata": {},
   "outputs": [
    {
     "data": {
      "text/plain": [
       "'23456789'"
      ]
     },
     "execution_count": 34,
     "metadata": {},
     "output_type": "execute_result"
    }
   ],
   "source": [
    "yeni= '0123456789'\n",
    "yeni[2:]#verilen stringdeki ilk iki eleman dışındaki elemanları alır."
   ]
  },
  {
   "cell_type": "markdown",
   "id": "968093be",
   "metadata": {},
   "source": [
    "## Slicing(kesme)"
   ]
  },
  {
   "cell_type": "code",
   "execution_count": 4,
   "id": "859e865f",
   "metadata": {},
   "outputs": [
    {
     "data": {
      "text/plain": [
       "\"52 ışay nı'mIRIDLIY egmiS\""
      ]
     },
     "execution_count": 4,
     "metadata": {},
     "output_type": "execute_result"
    }
   ],
   "source": [
    "a= \"Simge YILDIRIm'ın yaşı 25\"\n",
    "a[:-2]#son ikiyi siler.\n",
    "a[:2]#ilk ikiyi ekrana verir.\n",
    "a[2:]#ilk ikiyi siler.\n",
    "a[2:4]#iki noktadan öncekini başlangıç indisi,iki noktadan sonrakini de durma indisi olarak düşün.\n",
    "#step size\n",
    "a[::3]#üçer üçer atlayarak çalıştırır.\n",
    "a[1:10:2]\n",
    "a[::-1]#yazılanı tam tersine çevirir. Yani tersten yazdırır."
   ]
  },
  {
   "cell_type": "code",
   "execution_count": null,
   "id": "9864b4e5",
   "metadata": {},
   "outputs": [],
   "source": []
  },
  {
   "cell_type": "code",
   "execution_count": null,
   "id": "c45ec7e6",
   "metadata": {},
   "outputs": [],
   "source": []
  }
 ],
 "metadata": {
  "kernelspec": {
   "display_name": "Python 3 (ipykernel)",
   "language": "python",
   "name": "python3"
  },
  "language_info": {
   "codemirror_mode": {
    "name": "ipython",
    "version": 3
   },
   "file_extension": ".py",
   "mimetype": "text/x-python",
   "name": "python",
   "nbconvert_exporter": "python",
   "pygments_lexer": "ipython3",
   "version": "3.9.12"
  }
 },
 "nbformat": 4,
 "nbformat_minor": 5
}
