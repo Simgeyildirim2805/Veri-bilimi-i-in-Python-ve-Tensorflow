{
 "cells": [
  {
   "cell_type": "code",
   "execution_count": 2,
   "id": "5cc52e8e",
   "metadata": {},
   "outputs": [],
   "source": [
    "def bolmeIslemi(sayi):#bölme işlemi yapan bir fonksiyon tanımlandı.\n",
    "    return sayi / 2#parametre olarak verilen sayıyı ikiye böler."
   ]
  },
  {
   "cell_type": "code",
   "execution_count": 3,
   "id": "a9c42038",
   "metadata": {},
   "outputs": [
    {
     "data": {
      "text/plain": [
       "15.0"
      ]
     },
     "execution_count": 3,
     "metadata": {},
     "output_type": "execute_result"
    }
   ],
   "source": [
    "bolmeIslemi(30)#bölme işlemini yapıp sonucu ekrana verir."
   ]
  },
  {
   "cell_type": "code",
   "execution_count": 5,
   "id": "a0a26257",
   "metadata": {},
   "outputs": [],
   "source": [
    "listem = [1,2,3,4,5,6,7,8,9,10] #on elemanlı bir liste tanımlandı."
   ]
  },
  {
   "cell_type": "code",
   "execution_count": 6,
   "id": "8b086838",
   "metadata": {},
   "outputs": [],
   "source": [
    "yeni_liste= [] #boş bir liste tanımlandı.\n",
    "for eleman in listem:#listem adındaki listenin elemanlarına bölme işlemini uygula ve sonucu yeni listeye ata.\n",
    "    yeni_liste.append(bolmeIslemi(eleman))"
   ]
  },
  {
   "cell_type": "code",
   "execution_count": 7,
   "id": "cfe09c5f",
   "metadata": {},
   "outputs": [
    {
     "data": {
      "text/plain": [
       "[0.5, 1.0, 1.5, 2.0, 2.5, 3.0, 3.5, 4.0, 4.5, 5.0]"
      ]
     },
     "execution_count": 7,
     "metadata": {},
     "output_type": "execute_result"
    }
   ],
   "source": [
    "yeni_liste#yeni listeyi ekrana yazdır."
   ]
  },
  {
   "cell_type": "markdown",
   "id": "8b50c7cd",
   "metadata": {},
   "source": [
    "## map"
   ]
  },
  {
   "cell_type": "code",
   "execution_count": 8,
   "id": "85a57074",
   "metadata": {},
   "outputs": [
    {
     "data": {
      "text/plain": [
       "[0.5, 1.0, 1.5, 2.0, 2.5, 3.0, 3.5, 4.0, 4.5, 5.0]"
      ]
     },
     "execution_count": 8,
     "metadata": {},
     "output_type": "execute_result"
    }
   ],
   "source": [
    "list(map(bolmeIslemi,listem))#bir listeye bir fonksiyonu uyguladıktan sonra onu tekrar listeye eklemeye yarar map. Burada da bolme işlemi fonksiyonunu listeme uygulayıp sonucu yeni bir listeye atandı."
   ]
  },
  {
   "cell_type": "code",
   "execution_count": 29,
   "id": "d57081ec",
   "metadata": {},
   "outputs": [],
   "source": [
    "def kontrolFonksiyonu(string):#bu fonksiyonla da verilen string içinde harf kontrolü yapılır.Varsa true yoksa false döner.\n",
    "    return \"e\" in string"
   ]
  },
  {
   "cell_type": "code",
   "execution_count": 30,
   "id": "dd8b22b0",
   "metadata": {},
   "outputs": [
    {
     "data": {
      "text/plain": [
       "True"
      ]
     },
     "execution_count": 30,
     "metadata": {},
     "output_type": "execute_result"
    }
   ],
   "source": [
    "\"e\" in \"Simge\" "
   ]
  },
  {
   "cell_type": "code",
   "execution_count": 31,
   "id": "2a4813e3",
   "metadata": {},
   "outputs": [
    {
     "data": {
      "text/plain": [
       "False"
      ]
     },
     "execution_count": 31,
     "metadata": {},
     "output_type": "execute_result"
    }
   ],
   "source": [
    "kontrolFonksiyonu(\"Aras\")"
   ]
  },
  {
   "cell_type": "code",
   "execution_count": 32,
   "id": "af8d7b25",
   "metadata": {},
   "outputs": [
    {
     "data": {
      "text/plain": [
       "3"
      ]
     },
     "execution_count": 32,
     "metadata": {},
     "output_type": "execute_result"
    }
   ],
   "source": [
    "string_listesi = [\"Simge\", \"Aras\",\"Funda\",\"Cihan\",\"Mehmet\",\"Meltem\"]#yeni string listesi oluşturur.\n",
    "sonuc_listesi = list(map(kontrolFonksiyonu,string_listesi))#string listesine kontrol fonksiyonunu uygular sonucları sonuc listesine atar.\n",
    "sonuc_listesi.count(False)#sonuc listesindeki false sayısını verir."
   ]
  },
  {
   "cell_type": "markdown",
   "id": "d44a543e",
   "metadata": {},
   "source": [
    "## filter"
   ]
  },
  {
   "cell_type": "code",
   "execution_count": 33,
   "id": "cd4ae0d9",
   "metadata": {},
   "outputs": [
    {
     "data": {
      "text/plain": [
       "['Simge', 'Mehmet', 'Meltem']"
      ]
     },
     "execution_count": 33,
     "metadata": {},
     "output_type": "execute_result"
    }
   ],
   "source": [
    "list(filter(kontrolFonksiyonu,string_listesi))#string listesine kontrol fonksiyonunu uygular.Ve fonksiyondaki gibi string içinde e harfi olan stringleri bir liste halinde verir."
   ]
  },
  {
   "cell_type": "markdown",
   "id": "4bab2406",
   "metadata": {},
   "source": [
    "## lambda"
   ]
  },
  {
   "cell_type": "code",
   "execution_count": 34,
   "id": "53bbf5f0",
   "metadata": {},
   "outputs": [],
   "source": [
    "carpma = lambda numara : numara * 3 # fonksiyonları tek satırda kullanmaya yarar."
   ]
  },
  {
   "cell_type": "code",
   "execution_count": 35,
   "id": "0d0fa6ae",
   "metadata": {},
   "outputs": [
    {
     "data": {
      "text/plain": [
       "30"
      ]
     },
     "execution_count": 35,
     "metadata": {},
     "output_type": "execute_result"
    }
   ],
   "source": [
    "carpma(10)"
   ]
  },
  {
   "cell_type": "code",
   "execution_count": 38,
   "id": "0bbd22d5",
   "metadata": {},
   "outputs": [
    {
     "data": {
      "text/plain": [
       "[50, 100, 150, 200, 250]"
      ]
     },
     "execution_count": 38,
     "metadata": {},
     "output_type": "execute_result"
    }
   ],
   "source": [
    "ornek_liste = [10,20,30,40,50]# liste olusturur.\n",
    "list(map(lambda numara : numara * 5, ornek_liste))#oluşturulan listedeki elemenaları 5 ile çarpıp sonucları bir listeye atar.Listeyi döndürür."
   ]
  }
 ],
 "metadata": {
  "kernelspec": {
   "display_name": "Python 3 (ipykernel)",
   "language": "python",
   "name": "python3"
  },
  "language_info": {
   "codemirror_mode": {
    "name": "ipython",
    "version": 3
   },
   "file_extension": ".py",
   "mimetype": "text/x-python",
   "name": "python",
   "nbconvert_exporter": "python",
   "pygments_lexer": "ipython3",
   "version": "3.9.12"
  }
 },
 "nbformat": 4,
 "nbformat_minor": 5
}
