{
 "cells": [
  {
   "cell_type": "code",
   "execution_count": 2,
   "id": "a0f5b2a0",
   "metadata": {},
   "outputs": [],
   "source": [
    "liste= [10,60,50,80]"
   ]
  },
  {
   "cell_type": "code",
   "execution_count": 3,
   "id": "bf6ec234",
   "metadata": {},
   "outputs": [
    {
     "name": "stdout",
     "output_type": "stream",
     "text": [
      "2.0\n",
      "12.0\n",
      "10.0\n",
      "16.0\n"
     ]
    }
   ],
   "source": [
    "for numara in liste:\n",
    "    print(numara/5)"
   ]
  },
  {
   "cell_type": "code",
   "execution_count": 6,
   "id": "ad3d5a1b",
   "metadata": {},
   "outputs": [
    {
     "name": "stdout",
     "output_type": "stream",
     "text": [
      "10\n",
      "60\n"
     ]
    }
   ],
   "source": [
    "for numara in liste:\n",
    "    if numara == 50:#eşitlik doğruysa çık.Doğru değilse numarayı ekran yaz.\n",
    "        break\n",
    "    print(numara)"
   ]
  },
  {
   "cell_type": "code",
   "execution_count": 8,
   "id": "348fc9c0",
   "metadata": {},
   "outputs": [
    {
     "name": "stdout",
     "output_type": "stream",
     "text": [
      "10\n",
      "60\n",
      "80\n"
     ]
    }
   ],
   "source": [
    "for numara in liste:\n",
    "    if numara == 50:#eşitlik doğruysa devam et.\n",
    "        continue\n",
    "    print(numara)"
   ]
  },
  {
   "cell_type": "code",
   "execution_count": 9,
   "id": "983d9644",
   "metadata": {},
   "outputs": [],
   "source": [
    "for numara in liste:\n",
    "    pass#hiçbir işlem yapmaz."
   ]
  },
  {
   "cell_type": "code",
   "execution_count": null,
   "id": "89fbb11c",
   "metadata": {},
   "outputs": [],
   "source": []
  },
  {
   "cell_type": "code",
   "execution_count": null,
   "id": "1383c8ef",
   "metadata": {},
   "outputs": [],
   "source": []
  }
 ],
 "metadata": {
  "kernelspec": {
   "display_name": "Python 3 (ipykernel)",
   "language": "python",
   "name": "python3"
  },
  "language_info": {
   "codemirror_mode": {
    "name": "ipython",
    "version": 3
   },
   "file_extension": ".py",
   "mimetype": "text/x-python",
   "name": "python",
   "nbconvert_exporter": "python",
   "pygments_lexer": "ipython3",
   "version": "3.9.12"
  }
 },
 "nbformat": 4,
 "nbformat_minor": 5
}
