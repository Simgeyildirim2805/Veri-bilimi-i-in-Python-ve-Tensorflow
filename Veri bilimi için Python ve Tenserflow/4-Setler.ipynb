{
 "cells": [
  {
   "cell_type": "code",
   "execution_count": 13,
   "id": "0f0ebeb9",
   "metadata": {},
   "outputs": [
    {
     "data": {
      "text/plain": [
       "list"
      ]
     },
     "execution_count": 13,
     "metadata": {},
     "output_type": "execute_result"
    }
   ],
   "source": [
    "listem=[1,2,3,1,2,3]\n",
    "type(listem)"
   ]
  },
  {
   "cell_type": "code",
   "execution_count": 17,
   "id": "e65dfb14",
   "metadata": {},
   "outputs": [
    {
     "data": {
      "text/plain": [
       "{1, 2, 3}"
      ]
     },
     "execution_count": 17,
     "metadata": {},
     "output_type": "execute_result"
    }
   ],
   "source": [
    "listeSetim=set(listem)#listeyi sete dönüştürür. Yani içerisinde tekrar eden, fazla veriyi temizler.\n",
    "type(listeSetim)\n",
    "listeSetim"
   ]
  },
  {
   "cell_type": "code",
   "execution_count": 18,
   "id": "749754c9",
   "metadata": {},
   "outputs": [
    {
     "data": {
      "text/plain": [
       "{'a', 'b', 'c', 'd'}"
      ]
     },
     "execution_count": 18,
     "metadata": {},
     "output_type": "execute_result"
    }
   ],
   "source": [
    "harfler=[\"a\",\"b\",\"c\",\"d\",\"a\"]\n",
    "harfSetim=set(harfler)#listeyi sete dönüştürür.\n",
    "harfSetim"
   ]
  },
  {
   "cell_type": "code",
   "execution_count": 19,
   "id": "4fc272aa",
   "metadata": {},
   "outputs": [
    {
     "data": {
      "text/plain": [
       "list"
      ]
     },
     "execution_count": 19,
     "metadata": {},
     "output_type": "execute_result"
    }
   ],
   "source": [
    "bosListe=[]\n",
    "type(bosListe)"
   ]
  },
  {
   "cell_type": "code",
   "execution_count": 20,
   "id": "145f537b",
   "metadata": {},
   "outputs": [
    {
     "data": {
      "text/plain": [
       "[]"
      ]
     },
     "execution_count": 20,
     "metadata": {},
     "output_type": "execute_result"
    }
   ],
   "source": [
    "bosListe"
   ]
  },
  {
   "cell_type": "code",
   "execution_count": 23,
   "id": "03952246",
   "metadata": {},
   "outputs": [
    {
     "data": {
      "text/plain": [
       "[23, 23]"
      ]
     },
     "execution_count": 23,
     "metadata": {},
     "output_type": "execute_result"
    }
   ],
   "source": [
    "bosListe.append(23)\n",
    "bosListe"
   ]
  },
  {
   "cell_type": "code",
   "execution_count": 29,
   "id": "a56f6cde",
   "metadata": {},
   "outputs": [
    {
     "data": {
      "text/plain": [
       "dict"
      ]
     },
     "execution_count": 29,
     "metadata": {},
     "output_type": "execute_result"
    }
   ],
   "source": [
    "bosSozluk={}\n",
    "type(bosSozluk)"
   ]
  },
  {
   "cell_type": "code",
   "execution_count": 31,
   "id": "f93a2505",
   "metadata": {},
   "outputs": [
    {
     "data": {
      "text/plain": [
       "{'anahtarkelime3': 10}"
      ]
     },
     "execution_count": 31,
     "metadata": {},
     "output_type": "execute_result"
    }
   ],
   "source": [
    "bosSozluk[\"anahtarkelime3\"]=10\n",
    "bosSozluk"
   ]
  },
  {
   "cell_type": "code",
   "execution_count": 33,
   "id": "993e8e54",
   "metadata": {},
   "outputs": [
    {
     "data": {
      "text/plain": [
       "set()"
      ]
     },
     "execution_count": 33,
     "metadata": {},
     "output_type": "execute_result"
    }
   ],
   "source": [
    "bosSetim=set()\n",
    "bosSetim"
   ]
  },
  {
   "cell_type": "code",
   "execution_count": 35,
   "id": "74430f60",
   "metadata": {},
   "outputs": [
    {
     "data": {
      "text/plain": [
       "{10}"
      ]
     },
     "execution_count": 35,
     "metadata": {},
     "output_type": "execute_result"
    }
   ],
   "source": [
    "bosSetim.add(10)#sete eleman ekler.\n",
    "bosSetim"
   ]
  },
  {
   "cell_type": "code",
   "execution_count": null,
   "id": "483f83bf",
   "metadata": {},
   "outputs": [],
   "source": []
  }
 ],
 "metadata": {
  "kernelspec": {
   "display_name": "Python 3 (ipykernel)",
   "language": "python",
   "name": "python3"
  },
  "language_info": {
   "codemirror_mode": {
    "name": "ipython",
    "version": 3
   },
   "file_extension": ".py",
   "mimetype": "text/x-python",
   "name": "python",
   "nbconvert_exporter": "python",
   "pygments_lexer": "ipython3",
   "version": "3.9.12"
  }
 },
 "nbformat": 4,
 "nbformat_minor": 5
}
