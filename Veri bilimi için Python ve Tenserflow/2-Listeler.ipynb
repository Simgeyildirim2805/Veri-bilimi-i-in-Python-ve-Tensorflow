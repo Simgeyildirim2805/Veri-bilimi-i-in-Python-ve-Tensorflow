{
 "cells": [
  {
   "cell_type": "code",
   "execution_count": 1,
   "id": "8d0e280d",
   "metadata": {},
   "outputs": [
    {
     "data": {
      "text/plain": [
       "'S'"
      ]
     },
     "execution_count": 1,
     "metadata": {},
     "output_type": "execute_result"
    }
   ],
   "source": [
    "a= \"Simge YILDIRIM\"\n",
    "a[0]"
   ]
  },
  {
   "cell_type": "code",
   "execution_count": null,
   "id": "353c1d41",
   "metadata": {},
   "outputs": [],
   "source": [
    "#immutability or mutable(değişmezlik veya değiştirilebilirlik)"
   ]
  },
  {
   "cell_type": "code",
   "execution_count": 3,
   "id": "e6bc1cd5",
   "metadata": {},
   "outputs": [],
   "source": [
    "#a[0]=\"M\" #Hata verir değiştirilemez."
   ]
  },
  {
   "cell_type": "code",
   "execution_count": 6,
   "id": "eabc43fc",
   "metadata": {},
   "outputs": [
    {
     "data": {
      "text/plain": [
       "list"
      ]
     },
     "execution_count": 6,
     "metadata": {},
     "output_type": "execute_result"
    }
   ],
   "source": [
    "liste= [10,20,30,40,50]\n",
    "type(liste)"
   ]
  },
  {
   "cell_type": "code",
   "execution_count": 7,
   "id": "c1b32df9",
   "metadata": {},
   "outputs": [
    {
     "data": {
      "text/plain": [
       "10"
      ]
     },
     "execution_count": 7,
     "metadata": {},
     "output_type": "execute_result"
    }
   ],
   "source": [
    "liste[0]"
   ]
  },
  {
   "cell_type": "code",
   "execution_count": 17,
   "id": "c87f91f4",
   "metadata": {},
   "outputs": [
    {
     "data": {
      "text/plain": [
       "[100, 20, 30, 40, 50, 60, 60, 60, 60, 60, 60]"
      ]
     },
     "execution_count": 17,
     "metadata": {},
     "output_type": "execute_result"
    }
   ],
   "source": [
    "liste.append((60))# ekleme yapar.\n",
    "liste"
   ]
  },
  {
   "cell_type": "code",
   "execution_count": 21,
   "id": "70602d9c",
   "metadata": {},
   "outputs": [
    {
     "data": {
      "text/plain": [
       "[100, 20, 30, 40, 50, 60, 60]"
      ]
     },
     "execution_count": 21,
     "metadata": {},
     "output_type": "execute_result"
    }
   ],
   "source": [
    "liste.pop()#listenin en son elemanını çıkarır.\n",
    "liste"
   ]
  },
  {
   "cell_type": "code",
   "execution_count": 30,
   "id": "d20b416e",
   "metadata": {},
   "outputs": [
    {
     "data": {
      "text/plain": [
       "[99, 70, 60, 60, 60, 70, 40, 60]"
      ]
     },
     "execution_count": 30,
     "metadata": {},
     "output_type": "execute_result"
    }
   ],
   "source": [
    "yeniListe= [60,40,70,80,60,60,60,70,99]\n",
    "yeniListe.remove(80)#listeden elemanı siler.\n",
    "yeniListe.count(60)#listede verilen elemandan kaç tane olduğunu döndürür.\n",
    "yeniListe.reverse()#listeyi ters çevirir. Yani en son indexi en başa, en ilk indexi de en sona gelecek şekilde sıralar.\n",
    "yeniListe"
   ]
  },
  {
   "cell_type": "code",
   "execution_count": 37,
   "id": "21b6c365",
   "metadata": {},
   "outputs": [
    {
     "data": {
      "text/plain": [
       "7"
      ]
     },
     "execution_count": 37,
     "metadata": {},
     "output_type": "execute_result"
    }
   ],
   "source": [
    "karisikListe= [23,5,28,97,'Simge']\n",
    "#nestedlist birbiri içerisine geçmiş liste demektir.\n",
    "nestedList=[247,9,16,'Yıldırım',[7,'M']]\n",
    "nestedList[4]#listenin dördüncü indisindeki [7,'M']yi döndürür.\n",
    "xliste=nestedList[4][1]#istenildiği kadar ilerleme yapılarak istenilen elemana ulaşılabilir. Yani nestedListenin dördüncü indisindeki listenin birinci indisindeki elemanı döndürür.\n",
    "xliste"
   ]
  },
  {
   "cell_type": "code",
   "execution_count": null,
   "id": "cec18cfb",
   "metadata": {},
   "outputs": [],
   "source": []
  },
  {
   "cell_type": "code",
   "execution_count": null,
   "id": "b21fa249",
   "metadata": {},
   "outputs": [],
   "source": []
  }
 ],
 "metadata": {
  "kernelspec": {
   "display_name": "Python 3 (ipykernel)",
   "language": "python",
   "name": "python3"
  },
  "language_info": {
   "codemirror_mode": {
    "name": "ipython",
    "version": 3
   },
   "file_extension": ".py",
   "mimetype": "text/x-python",
   "name": "python",
   "nbconvert_exporter": "python",
   "pygments_lexer": "ipython3",
   "version": "3.9.12"
  }
 },
 "nbformat": 4,
 "nbformat_minor": 5
}
