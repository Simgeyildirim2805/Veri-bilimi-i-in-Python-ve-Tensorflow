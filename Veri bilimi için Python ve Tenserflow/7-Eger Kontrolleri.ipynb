{
 "cells": [
  {
   "cell_type": "code",
   "execution_count": 10,
   "id": "e345f87c",
   "metadata": {},
   "outputs": [
    {
     "name": "stdout",
     "output_type": "stream",
     "text": [
      "if koşulu sağlandı.\n",
      "if koşulundan çıkıldı.\n"
     ]
    }
   ],
   "source": [
    "if  5 > 4: #İçerdeki ifade doğruysa bir alt satırdaki kodu çalıştırır, değilse hiçbir işlem yapmaz.\n",
    "    print(\"if koşulu sağlandı.\")\n",
    "print(\"if koşulundan çıkıldı.\")"
   ]
  },
  {
   "cell_type": "code",
   "execution_count": 14,
   "id": "1f6aa35b",
   "metadata": {},
   "outputs": [],
   "source": [
    "x=3"
   ]
  },
  {
   "cell_type": "code",
   "execution_count": 19,
   "id": "a3da5474",
   "metadata": {},
   "outputs": [],
   "source": [
    "y=3"
   ]
  },
  {
   "cell_type": "code",
   "execution_count": 20,
   "id": "c5d58cc8",
   "metadata": {},
   "outputs": [
    {
     "name": "stdout",
     "output_type": "stream",
     "text": [
      "x ve y birbirine eşittir.\n"
     ]
    }
   ],
   "source": [
    "if  x > y :\n",
    "    print(\"x y'den büyüktür.\")\n",
    "elif y > x:\n",
    "     print(\"y x'den büyüktür.\")\n",
    "else :\n",
    "    print(\"x ve y birbirine eşittir.\")"
   ]
  },
  {
   "cell_type": "code",
   "execution_count": 24,
   "id": "27a11c20",
   "metadata": {},
   "outputs": [
    {
     "name": "stdout",
     "output_type": "stream",
     "text": [
      "var\n"
     ]
    }
   ],
   "source": [
    "string=\"Simge Yıldırım Python temelleri\"\n",
    "if \"thon\" in string: #tanımlanan string içerisinde karakterin olup olmağının kontrolünü yapan if koşulu.\n",
    "    print(\"var\")\n",
    "else : \n",
    "    print(\"yok\")"
   ]
  },
  {
   "cell_type": "code",
   "execution_count": 26,
   "id": "7b9f8329",
   "metadata": {},
   "outputs": [
    {
     "name": "stdout",
     "output_type": "stream",
     "text": [
      "var\n"
     ]
    }
   ],
   "source": [
    "sayilar=[10,20,60,3,23,98]\n",
    "if 23 in sayilar :#dizide bir sayının olup olmaığının kontrolünü yapan if koşulu.\n",
    "    print(\"var\")\n",
    "else: \n",
    "    print(\"yok\")"
   ]
  },
  {
   "cell_type": "code",
   "execution_count": null,
   "id": "78ff64ab",
   "metadata": {},
   "outputs": [],
   "source": []
  }
 ],
 "metadata": {
  "kernelspec": {
   "display_name": "Python 3 (ipykernel)",
   "language": "python",
   "name": "python3"
  },
  "language_info": {
   "codemirror_mode": {
    "name": "ipython",
    "version": 3
   },
   "file_extension": ".py",
   "mimetype": "text/x-python",
   "name": "python",
   "nbconvert_exporter": "python",
   "pygments_lexer": "ipython3",
   "version": "3.9.12"
  }
 },
 "nbformat": 4,
 "nbformat_minor": 5
}
