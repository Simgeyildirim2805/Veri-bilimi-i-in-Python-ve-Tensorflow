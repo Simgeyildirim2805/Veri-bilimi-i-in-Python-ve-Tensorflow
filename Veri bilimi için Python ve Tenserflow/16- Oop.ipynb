{
 "cells": [
  {
   "cell_type": "markdown",
   "id": "ee9b7eed",
   "metadata": {},
   "source": [
    "## instance and attribute"
   ]
  },
  {
   "cell_type": "code",
   "execution_count": 1,
   "id": "b1fc826a",
   "metadata": {},
   "outputs": [],
   "source": [
    "superKahramanAdi= \"Superman\"\n",
    "superKahramanYasi= 30\n",
    "superKahramanMeslegi= \"Gazetteci\""
   ]
  },
  {
   "cell_type": "code",
   "execution_count": 2,
   "id": "1e5aa066",
   "metadata": {},
   "outputs": [],
   "source": [
    "ikinciSuperKahramanAdi= \"Baman\""
   ]
  },
  {
   "cell_type": "code",
   "execution_count": null,
   "id": "46ee03e1",
   "metadata": {},
   "outputs": [],
   "source": [
    "#self sayesinde bir sınıf içerisinde tanımlı fonksiyonların hepsine erişim sağlayabiliyoruz bir nevi."
   ]
  },
  {
   "cell_type": "code",
   "execution_count": 46,
   "id": "073356dc",
   "metadata": {},
   "outputs": [],
   "source": [
    "class SuperKahraman(): #sınıfların ilk harfi genelde büyük yazılır.Büyük yazılanlar sınıf, küçük yazılanlawr o sınıfın instance i gibi bir jargon vardır.\n",
    "    ozelGuc= \"Görünmezlik\"\n",
    "    def __init__(self,isim,yas,meslek):\n",
    "        print(\"init çağrıldı.\")\n",
    "        self.isim= isim\n",
    "        self.yas= yas\n",
    "        self.meslek=meslek\n",
    "    def ornekMetot(self):\n",
    "        print(f\"ben superkahramanım ve mesleğim:  {self.meslek}\")"
   ]
  },
  {
   "cell_type": "code",
   "execution_count": 47,
   "id": "7e1c1268",
   "metadata": {},
   "outputs": [
    {
     "name": "stdout",
     "output_type": "stream",
     "text": [
      "init çağrıldı.\n"
     ]
    }
   ],
   "source": [
    "superman= SuperKahraman(\"Superman\",30,\"Gazeteci\")"
   ]
  },
  {
   "cell_type": "code",
   "execution_count": 48,
   "id": "149ca708",
   "metadata": {},
   "outputs": [],
   "source": [
    "superman.isim= \"Clark Kent\""
   ]
  },
  {
   "cell_type": "code",
   "execution_count": 49,
   "id": "c3fcc529",
   "metadata": {},
   "outputs": [
    {
     "data": {
      "text/plain": [
       "'Clark Kent'"
      ]
     },
     "execution_count": 49,
     "metadata": {},
     "output_type": "execute_result"
    }
   ],
   "source": [
    "superman.isim"
   ]
  },
  {
   "cell_type": "code",
   "execution_count": 50,
   "id": "e51dab09",
   "metadata": {},
   "outputs": [
    {
     "data": {
      "text/plain": [
       "30"
      ]
     },
     "execution_count": 50,
     "metadata": {},
     "output_type": "execute_result"
    }
   ],
   "source": [
    "superman.yas"
   ]
  },
  {
   "cell_type": "code",
   "execution_count": 51,
   "id": "9299c3d0",
   "metadata": {},
   "outputs": [
    {
     "data": {
      "text/plain": [
       "'Gazeteci'"
      ]
     },
     "execution_count": 51,
     "metadata": {},
     "output_type": "execute_result"
    }
   ],
   "source": [
    "superman.meslek"
   ]
  },
  {
   "cell_type": "code",
   "execution_count": 52,
   "id": "9fc43b34",
   "metadata": {},
   "outputs": [
    {
     "data": {
      "text/plain": [
       "'Görünmezlik'"
      ]
     },
     "execution_count": 52,
     "metadata": {},
     "output_type": "execute_result"
    }
   ],
   "source": [
    "superman.ozelGuc"
   ]
  },
  {
   "cell_type": "code",
   "execution_count": 53,
   "id": "51ac351b",
   "metadata": {},
   "outputs": [],
   "source": [
    "superman.ozelGuc=\"uçabiliyor\""
   ]
  },
  {
   "cell_type": "code",
   "execution_count": 54,
   "id": "5c3d7434",
   "metadata": {},
   "outputs": [
    {
     "data": {
      "text/plain": [
       "'uçabiliyor'"
      ]
     },
     "execution_count": 54,
     "metadata": {},
     "output_type": "execute_result"
    }
   ],
   "source": [
    "superman.ozelGuc"
   ]
  },
  {
   "cell_type": "code",
   "execution_count": 55,
   "id": "8d03951d",
   "metadata": {},
   "outputs": [
    {
     "name": "stdout",
     "output_type": "stream",
     "text": [
      "ben superkahramanım ve mesleğim:  Gazeteci\n"
     ]
    }
   ],
   "source": [
    "superman.ornekMetot()"
   ]
  },
  {
   "cell_type": "code",
   "execution_count": 58,
   "id": "51c0aafa",
   "metadata": {},
   "outputs": [],
   "source": [
    "class Kopek():\n",
    "    def __init__(self,yas):\n",
    "        self.yas= yas"
   ]
  },
  {
   "cell_type": "code",
   "execution_count": 59,
   "id": "1e9451ec",
   "metadata": {},
   "outputs": [],
   "source": [
    "benimKopek= Kopek(5)"
   ]
  },
  {
   "cell_type": "code",
   "execution_count": 61,
   "id": "527c8f92",
   "metadata": {},
   "outputs": [
    {
     "data": {
      "text/plain": [
       "5"
      ]
     },
     "execution_count": 61,
     "metadata": {},
     "output_type": "execute_result"
    }
   ],
   "source": [
    "benimKopek.yas"
   ]
  },
  {
   "cell_type": "code",
   "execution_count": 62,
   "id": "12edafc7",
   "metadata": {},
   "outputs": [],
   "source": [
    "class Kedi():\n",
    "    def __init__(self,yas=7):\n",
    "        self.yas=yas"
   ]
  },
  {
   "cell_type": "code",
   "execution_count": 63,
   "id": "eae27d7d",
   "metadata": {},
   "outputs": [],
   "source": [
    "kedim=Kedi()"
   ]
  },
  {
   "cell_type": "code",
   "execution_count": 64,
   "id": "114ae51e",
   "metadata": {},
   "outputs": [
    {
     "data": {
      "text/plain": [
       "7"
      ]
     },
     "execution_count": 64,
     "metadata": {},
     "output_type": "execute_result"
    }
   ],
   "source": [
    "kedim.yas"
   ]
  },
  {
   "cell_type": "code",
   "execution_count": 67,
   "id": "b35aa0b1",
   "metadata": {},
   "outputs": [],
   "source": [
    "class Hesap():\n",
    "    yilCarpani=3 #direk sınıf içine yazmmak ilerde bir değişiklik yapmak istendiğinde fonksiyonlar içinde tek tek değişiklik yapmaktansa direk sınıf içindekini değişmek gibi bir kolaylık sağlıyor.\n",
    "    def __init__(self,yas=4):\n",
    "            self.yas=yas\n",
    "            self.insanyasinacevrilmisAttribute=yas*3\n",
    "    def yasHesapla(self):\n",
    "        return self.yas*yilCarpani\n",
    "        #return self.yas*3 veya\n",
    "        #return self.yas.Hesap.yilCarpani birçok şekilde yazılabilir."
   ]
  },
  {
   "cell_type": "code",
   "execution_count": 71,
   "id": "bfe31c8c",
   "metadata": {},
   "outputs": [],
   "source": [
    "hesapla=Hesap()"
   ]
  },
  {
   "cell_type": "code",
   "execution_count": 73,
   "id": "64bb8dbb",
   "metadata": {},
   "outputs": [
    {
     "data": {
      "text/plain": [
       "4"
      ]
     },
     "execution_count": 73,
     "metadata": {},
     "output_type": "execute_result"
    }
   ],
   "source": [
    "hesapla.yas"
   ]
  },
  {
   "cell_type": "code",
   "execution_count": 78,
   "id": "a09015dc",
   "metadata": {},
   "outputs": [
    {
     "data": {
      "text/plain": [
       "12"
      ]
     },
     "execution_count": 78,
     "metadata": {},
     "output_type": "execute_result"
    }
   ],
   "source": [
    "hesapla.insanyasinacevrilmisAttribute"
   ]
  },
  {
   "cell_type": "markdown",
   "id": "a8b7272f",
   "metadata": {},
   "source": [
    "## inheritance"
   ]
  },
  {
   "cell_type": "code",
   "execution_count": 108,
   "id": "011c5a11",
   "metadata": {},
   "outputs": [],
   "source": [
    "class Hayvan():\n",
    "    def __init__(self):\n",
    "        print(\"hayvan sınıfı çağrıldı.\")\n",
    "    def method1(self):\n",
    "        print(\"hayvan sınıfı method1 çağrıldı.\")\n",
    "    def method2(self):\n",
    "        print(\"hayvan sınıfı method2 çağrıldı.\")\n",
    "    def method3(self):\n",
    "        print(\"hayvan sınıfı method3 çağrıldı.\")"
   ]
  },
  {
   "cell_type": "code",
   "execution_count": 109,
   "id": "66516d9a",
   "metadata": {},
   "outputs": [
    {
     "name": "stdout",
     "output_type": "stream",
     "text": [
      "hayvan sınıfı çağrıldı.\n"
     ]
    }
   ],
   "source": [
    "benimHayvan= Hayvan()"
   ]
  },
  {
   "cell_type": "code",
   "execution_count": 110,
   "id": "68316331",
   "metadata": {},
   "outputs": [
    {
     "name": "stdout",
     "output_type": "stream",
     "text": [
      "hayvan sınıfı method1 çağrıldı.\n"
     ]
    }
   ],
   "source": [
    "benimHayvan.method1()"
   ]
  },
  {
   "cell_type": "code",
   "execution_count": 111,
   "id": "3b65fccc",
   "metadata": {},
   "outputs": [
    {
     "name": "stdout",
     "output_type": "stream",
     "text": [
      "hayvan sınıfı method2 çağrıldı.\n"
     ]
    }
   ],
   "source": [
    "benimHayvan.method2()"
   ]
  },
  {
   "cell_type": "code",
   "execution_count": 112,
   "id": "af62dec5",
   "metadata": {},
   "outputs": [
    {
     "name": "stdout",
     "output_type": "stream",
     "text": [
      "hayvan sınıfı method3 çağrıldı.\n"
     ]
    }
   ],
   "source": [
    "benimHayvan.method3()"
   ]
  },
  {
   "cell_type": "code",
   "execution_count": 123,
   "id": "98b405be",
   "metadata": {},
   "outputs": [],
   "source": [
    "class Kedii(Hayvan):\n",
    "    def __init__(self):\n",
    "        Hayvan.__init__(self)\n",
    "        print(\"Kedii sınıfı init çağrıldı.\")\n",
    "    def miyavla(self):\n",
    "        print(\"miyav\")"
   ]
  },
  {
   "cell_type": "code",
   "execution_count": 124,
   "id": "05531ec1",
   "metadata": {},
   "outputs": [
    {
     "name": "stdout",
     "output_type": "stream",
     "text": [
      "hayvan sınıfı çağrıldı.\n",
      "Kedii sınıfı init çağrıldı.\n"
     ]
    }
   ],
   "source": [
    "benimKedi= Kedii()"
   ]
  },
  {
   "cell_type": "code",
   "execution_count": 125,
   "id": "89f76807",
   "metadata": {},
   "outputs": [
    {
     "name": "stdout",
     "output_type": "stream",
     "text": [
      "hayvan sınıfı method1 çağrıldı.\n"
     ]
    }
   ],
   "source": [
    "benimKedi.method1()"
   ]
  },
  {
   "cell_type": "code",
   "execution_count": 126,
   "id": "9772fd07",
   "metadata": {},
   "outputs": [
    {
     "name": "stdout",
     "output_type": "stream",
     "text": [
      "miyav\n"
     ]
    }
   ],
   "source": [
    "benimKedi.miyavla()"
   ]
  },
  {
   "cell_type": "code",
   "execution_count": null,
   "id": "aedff676",
   "metadata": {},
   "outputs": [],
   "source": []
  }
 ],
 "metadata": {
  "kernelspec": {
   "display_name": "Python 3 (ipykernel)",
   "language": "python",
   "name": "python3"
  },
  "language_info": {
   "codemirror_mode": {
    "name": "ipython",
    "version": 3
   },
   "file_extension": ".py",
   "mimetype": "text/x-python",
   "name": "python",
   "nbconvert_exporter": "python",
   "pygments_lexer": "ipython3",
   "version": "3.9.12"
  }
 },
 "nbformat": 4,
 "nbformat_minor": 5
}
