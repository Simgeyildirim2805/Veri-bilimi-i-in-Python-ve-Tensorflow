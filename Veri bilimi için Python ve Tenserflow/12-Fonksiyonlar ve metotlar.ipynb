{
 "cells": [
  {
   "cell_type": "code",
   "execution_count": 1,
   "id": "a76331b3",
   "metadata": {},
   "outputs": [
    {
     "data": {
      "text/plain": [
       "' SIMGE'"
      ]
     },
     "execution_count": 1,
     "metadata": {},
     "output_type": "execute_result"
    }
   ],
   "source": [
    "isim=\" simge\"\n",
    "isim.upper()#herpsini büyük harfe çevirir."
   ]
  },
  {
   "cell_type": "markdown",
   "id": "c97b4eee",
   "metadata": {},
   "source": [
    "def ilkfonksiyon():\n",
    "    print(\"ilk fonksiyonum\")"
   ]
  },
  {
   "cell_type": "markdown",
   "id": "a71123df",
   "metadata": {},
   "source": [
    "## input ve return"
   ]
  },
  {
   "cell_type": "code",
   "execution_count": 19,
   "id": "d48c784c",
   "metadata": {},
   "outputs": [
    {
     "name": "stdout",
     "output_type": "stream",
     "text": [
      "simge\n"
     ]
    }
   ],
   "source": [
    "def merhabaDnya(yazdirilacakIsim):\n",
    "    print(yazdirilacakIsim)\n",
    "merhabaDnya(\"simge\")"
   ]
  },
  {
   "cell_type": "code",
   "execution_count": 21,
   "id": "cd79de9f",
   "metadata": {},
   "outputs": [
    {
     "name": "stdout",
     "output_type": "stream",
     "text": [
      "Yıldırım\n"
     ]
    }
   ],
   "source": [
    "merhabaDnya(\"Yıldırım\")"
   ]
  },
  {
   "cell_type": "markdown",
   "id": "f547f809",
   "metadata": {},
   "source": [
    "## arg ve kwargs"
   ]
  },
  {
   "cell_type": "code",
   "execution_count": 22,
   "id": "2b18e4bd",
   "metadata": {},
   "outputs": [],
   "source": [
    "def yenitoplam(*args):#girilen sayıların hepsini toplar.\n",
    "    return(sum(args))\n"
   ]
  },
  {
   "cell_type": "code",
   "execution_count": 23,
   "id": "af8f5444",
   "metadata": {},
   "outputs": [
    {
     "data": {
      "text/plain": [
       "150"
      ]
     },
     "execution_count": 23,
     "metadata": {},
     "output_type": "execute_result"
    }
   ],
   "source": [
    "yenitoplam(10,20,30,40,50)"
   ]
  },
  {
   "cell_type": "code",
   "execution_count": 24,
   "id": "bb747f5a",
   "metadata": {},
   "outputs": [
    {
     "data": {
      "text/plain": [
       "30"
      ]
     },
     "execution_count": 24,
     "metadata": {},
     "output_type": "execute_result"
    }
   ],
   "source": [
    "yenitoplam(10,20)"
   ]
  },
  {
   "cell_type": "code",
   "execution_count": 28,
   "id": "ebe8d323",
   "metadata": {},
   "outputs": [
    {
     "data": {
      "text/plain": [
       "(10, 6, 48, 79, 88)"
      ]
     },
     "execution_count": 28,
     "metadata": {},
     "output_type": "execute_result"
    }
   ],
   "source": [
    "def yeni(*args):\n",
    "    return(args)\n",
    "yeni(10,6,48,79,88)"
   ]
  },
  {
   "cell_type": "code",
   "execution_count": 33,
   "id": "20f41d13",
   "metadata": {},
   "outputs": [
    {
     "ename": "SyntaxError",
     "evalue": "invalid syntax (3648657389.py, line 3)",
     "output_type": "error",
     "traceback": [
      "\u001b[1;36m  Input \u001b[1;32mIn [33]\u001b[1;36m\u001b[0m\n\u001b[1;33m    type(orn=(muz=50,elma=63, kiraz=48))\u001b[0m\n\u001b[1;37m                 ^\u001b[0m\n\u001b[1;31mSyntaxError\u001b[0m\u001b[1;31m:\u001b[0m invalid syntax\n"
     ]
    }
   ],
   "source": [
    "def orn(**kwargs):#sözlüksel değer atamalı işlemlerde kwargs kullanmak daha mantıklı olur.\n",
    "    return(kwargs)\n",
    "type(orn=(muz=50,elma=63, kiraz=48))"
   ]
  },
  {
   "cell_type": "code",
   "execution_count": null,
   "id": "d0ef562d",
   "metadata": {},
   "outputs": [],
   "source": []
  },
  {
   "cell_type": "code",
   "execution_count": null,
   "id": "01adfc80",
   "metadata": {},
   "outputs": [],
   "source": []
  }
 ],
 "metadata": {
  "kernelspec": {
   "display_name": "Python 3 (ipykernel)",
   "language": "python",
   "name": "python3"
  },
  "language_info": {
   "codemirror_mode": {
    "name": "ipython",
    "version": 3
   },
   "file_extension": ".py",
   "mimetype": "text/x-python",
   "name": "python",
   "nbconvert_exporter": "python",
   "pygments_lexer": "ipython3",
   "version": "3.9.12"
  }
 },
 "nbformat": 4,
 "nbformat_minor": 5
}
