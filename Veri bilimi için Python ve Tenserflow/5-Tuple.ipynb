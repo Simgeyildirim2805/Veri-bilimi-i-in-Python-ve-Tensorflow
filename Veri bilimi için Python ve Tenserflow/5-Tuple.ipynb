{
 "cells": [
  {
   "cell_type": "code",
   "execution_count": 5,
   "id": "da754ed6",
   "metadata": {},
   "outputs": [
    {
     "data": {
      "text/plain": [
       "1"
      ]
     },
     "execution_count": 5,
     "metadata": {},
     "output_type": "execute_result"
    }
   ],
   "source": [
    "liste=[1,2,4.5,3,1,\"a\"]\n",
    "liste[0]"
   ]
  },
  {
   "cell_type": "code",
   "execution_count": 6,
   "id": "50782392",
   "metadata": {},
   "outputs": [
    {
     "data": {
      "text/plain": [
       "(1, 2, 4.5, 3, 1, 'a')"
      ]
     },
     "execution_count": 6,
     "metadata": {},
     "output_type": "execute_result"
    }
   ],
   "source": [
    "tuple=(1,2,4.5,3,1,\"a\")\n",
    "tuple"
   ]
  },
  {
   "cell_type": "code",
   "execution_count": 11,
   "id": "623feede",
   "metadata": {},
   "outputs": [
    {
     "data": {
      "text/plain": [
       "2"
      ]
     },
     "execution_count": 11,
     "metadata": {},
     "output_type": "execute_result"
    }
   ],
   "source": [
    "tuple.index(4.5)#verilen elamanın indexini verir."
   ]
  },
  {
   "cell_type": "code",
   "execution_count": 9,
   "id": "416a5913",
   "metadata": {},
   "outputs": [
    {
     "data": {
      "text/plain": [
       "2"
      ]
     },
     "execution_count": 9,
     "metadata": {},
     "output_type": "execute_result"
    }
   ],
   "source": [
    "tuple.count(1)#tanımlanan elemanın sayısını verir."
   ]
  },
  {
   "cell_type": "code",
   "execution_count": null,
   "id": "5516b7fd",
   "metadata": {},
   "outputs": [],
   "source": []
  }
 ],
 "metadata": {
  "kernelspec": {
   "display_name": "Python 3 (ipykernel)",
   "language": "python",
   "name": "python3"
  },
  "language_info": {
   "codemirror_mode": {
    "name": "ipython",
    "version": 3
   },
   "file_extension": ".py",
   "mimetype": "text/x-python",
   "name": "python",
   "nbconvert_exporter": "python",
   "pygments_lexer": "ipython3",
   "version": "3.9.12"
  }
 },
 "nbformat": 4,
 "nbformat_minor": 5
}
