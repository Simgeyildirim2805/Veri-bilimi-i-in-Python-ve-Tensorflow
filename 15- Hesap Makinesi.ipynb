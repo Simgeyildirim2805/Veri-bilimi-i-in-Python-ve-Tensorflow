{
 "cells": [
  {
   "cell_type": "markdown",
   "id": "e2c5bd18",
   "metadata": {},
   "source": [
    "### Hesap Makinesi"
   ]
  },
  {
   "cell_type": "code",
   "execution_count": null,
   "id": "ae20dcf3",
   "metadata": {},
   "outputs": [
    {
     "name": "stdout",
     "output_type": "stream",
     "text": [
      "ilk sayıyı giriniz: 56\n",
      "ikinci sayıyı giriniz: 5\n",
      "işleminizi seçiniz: + - * / -\n",
      "56 - 5 = 51\n"
     ]
    }
   ],
   "source": [
    "def hesapla(a, b, islem):\n",
    "    if islem not in \"/*-+\":\n",
    "        return(\"Lütfen şu işlemlerden birini seçiniz /*-+\")\n",
    "    if islem == \"+\" :\n",
    "        return (str(a)+ \" + \" + str(b) + \" = \" + str(a + b))\n",
    "    if islem == \"-\" :\n",
    "        return (str(a)+ \" - \" + str(b) + \" = \" + str(a - b))\n",
    "    if islem == \"*\" :\n",
    "        return (str(a)+ \" * \" + str(b) + \" = \" + str(a * b))\n",
    "    if islem == \"/\" :\n",
    "        return (str(a)+ \" / \" + str(b) + \" = \" + str(a / b))\n",
    "while True:\n",
    "    try:\n",
    "        a= int(input(\"ilk sayıyı giriniz: \"))\n",
    "        b= int(input(\"ikinci sayıyı giriniz: \"))\n",
    "        islem=input(\"işleminizi seçiniz: + - * / \")\n",
    "        print(hesapla(a, b, islem))\n",
    "    except:\n",
    "        print(\"lütfen sayıları düzgün giriniz!\")"
   ]
  },
  {
   "cell_type": "code",
   "execution_count": null,
   "id": "7f3f5325",
   "metadata": {},
   "outputs": [],
   "source": []
  },
  {
   "cell_type": "code",
   "execution_count": null,
   "id": "a868d4c2",
   "metadata": {},
   "outputs": [],
   "source": []
  }
 ],
 "metadata": {
  "kernelspec": {
   "display_name": "Python 3 (ipykernel)",
   "language": "python",
   "name": "python3"
  },
  "language_info": {
   "codemirror_mode": {
    "name": "ipython",
    "version": 3
   },
   "file_extension": ".py",
   "mimetype": "text/x-python",
   "name": "python",
   "nbconvert_exporter": "python",
   "pygments_lexer": "ipython3",
   "version": "3.9.12"
  }
 },
 "nbformat": 4,
 "nbformat_minor": 5
}
